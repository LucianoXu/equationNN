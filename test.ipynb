{
 "cells": [
  {
   "cell_type": "code",
   "execution_count": 4,
   "metadata": {},
   "outputs": [],
   "source": [
    "from pathlib import Path\n",
    "from torch.utils.data import Dataset, DataLoader\n",
    "\n",
    "from treenn import *\n",
    "from randomgen import *\n",
    "from datagen import *\n",
    "from model import *\n",
    "\n",
    "config = {\n",
    "        'height': 4,\n",
    "        'max_height': 20,\n",
    "        'path_length': 2,\n",
    "        'n': 2000,\n",
    "        'max_length': 100,\n",
    "        'batch_size': 128,\n",
    "        'lr': 1e-4,\n",
    "        'num_epochs': 1,\n",
    "\n",
    "        'datasource': 'thread',\n",
    "        'model_basename': 'treenn_',\n",
    "        'model_folder': 'weights',\n",
    "        'preload': 'latest',\n",
    "        'experiment_name': 'runs/treenn',\n",
    "    }\n",
    "\n",
    "args = ModelArgs(\n",
    "    dim = 32,\n",
    "    n_layers = 3,\n",
    "    n_heads = 4,\n",
    ")\n",
    "args.vocab_size = len(term_tokenizer)\n",
    "args.output_size = len(opt_tokenizer)"
   ]
  },
  {
   "cell_type": "code",
   "execution_count": 5,
   "metadata": {},
   "outputs": [
    {
     "name": "stderr",
     "output_type": "stream",
     "text": [
      "3219it [00:00, 13724.33it/s]                          "
     ]
    },
    {
     "name": "stdout",
     "output_type": "stream",
     "text": [
      "{<function rule_comm at 0x3046eb880>: 2000, <function rule_assoc1 at 0x3046ebce0>: 0, <function rule_assoc2 at 0x3046ebd80>: 0, <function rule_eq_reduce at 0x3046ebe20>: 0}\n",
      "Model has 37312 parameters\n",
      "Preloading model thread_weights/treenn_00.pt\n"
     ]
    },
    {
     "name": "stderr",
     "output_type": "stream",
     "text": [
      "\n"
     ]
    }
   ],
   "source": [
    "from train import load_model, greedy_decode\n",
    "\n",
    "model = load_model(config, args)"
   ]
  },
  {
   "cell_type": "code",
   "execution_count": 7,
   "metadata": {},
   "outputs": [
    {
     "name": "stdout",
     "output_type": "stream",
     "text": [
      "tensor([[[ 1.9899,  0.8225,  0.3465,  1.9863,  0.8261, -0.9444,  2.0009,\n",
      "           1.9959,  0.8212, -0.9518,  0.8072],\n",
      "         [-0.5520, -0.1393, -0.7284, -0.5517, -0.1463, -0.3865, -0.5618,\n",
      "          -0.5717, -0.1447, -0.3943, -0.1280],\n",
      "         [-1.4803, -0.0718, -0.2678, -1.4749, -0.0408,  0.4505, -1.4629,\n",
      "          -1.4547, -0.0829,  0.4852, -0.0623],\n",
      "         [-1.2289, -0.8334, -1.2096, -1.2252, -0.8202, -0.7433, -1.2267,\n",
      "          -1.2234, -0.8528, -0.7158, -0.8385]]])\n",
      "(0, (1, 1))\n"
     ]
    }
   ],
   "source": [
    "# evaluate the result\n",
    "t = parse(\"a+(a+b)=(a+b)+a\")\n",
    "print(greedy_decode(model, t, 10, 2, None))"
   ]
  },
  {
   "cell_type": "code",
   "execution_count": null,
   "metadata": {},
   "outputs": [],
   "source": []
  }
 ],
 "metadata": {
  "kernelspec": {
   "display_name": "base",
   "language": "python",
   "name": "python3"
  },
  "language_info": {
   "codemirror_mode": {
    "name": "ipython",
    "version": 3
   },
   "file_extension": ".py",
   "mimetype": "text/x-python",
   "name": "python",
   "nbconvert_exporter": "python",
   "pygments_lexer": "ipython3",
   "version": "3.11.5"
  }
 },
 "nbformat": 4,
 "nbformat_minor": 2
}
